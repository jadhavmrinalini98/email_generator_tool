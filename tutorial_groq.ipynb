{
 "cells": [
  {
   "cell_type": "code",
   "id": "cbe47f04-ef92-4173-9d17-5c3cc1248301",
   "metadata": {
    "ExecuteTime": {
     "end_time": "2025-04-06T00:11:56.962990Z",
     "start_time": "2025-04-06T00:11:52.342770Z"
    }
   },
   "source": [
    "pip install langchain"
   ],
   "outputs": [
    {
     "name": "stdout",
     "output_type": "stream",
     "text": [
      "Defaulting to user installation because normal site-packages is not writeable\r\n",
      "Requirement already satisfied: langchain in /Users/mrinalinijadhav/Library/Python/3.9/lib/python/site-packages (0.3.20)\r\n",
      "Requirement already satisfied: async-timeout<5.0.0,>=4.0.0 in /Users/mrinalinijadhav/Library/Python/3.9/lib/python/site-packages (from langchain) (4.0.3)\r\n",
      "Requirement already satisfied: langsmith<0.4,>=0.1.17 in /Users/mrinalinijadhav/Library/Python/3.9/lib/python/site-packages (from langchain) (0.3.13)\r\n",
      "Requirement already satisfied: pydantic<3.0.0,>=2.7.4 in /Users/mrinalinijadhav/Library/Python/3.9/lib/python/site-packages (from langchain) (2.10.6)\r\n",
      "Requirement already satisfied: PyYAML>=5.3 in /Users/mrinalinijadhav/Library/Python/3.9/lib/python/site-packages (from langchain) (6.0.2)\r\n",
      "Requirement already satisfied: langchain-text-splitters<1.0.0,>=0.3.6 in /Users/mrinalinijadhav/Library/Python/3.9/lib/python/site-packages (from langchain) (0.3.6)\r\n",
      "Requirement already satisfied: langchain-core<1.0.0,>=0.3.41 in /Users/mrinalinijadhav/Library/Python/3.9/lib/python/site-packages (from langchain) (0.3.43)\r\n",
      "Requirement already satisfied: SQLAlchemy<3,>=1.4 in /Users/mrinalinijadhav/Library/Python/3.9/lib/python/site-packages (from langchain) (2.0.38)\r\n",
      "Requirement already satisfied: requests<3,>=2 in /Users/mrinalinijadhav/Library/Python/3.9/lib/python/site-packages (from langchain) (2.32.3)\r\n",
      "Requirement already satisfied: tenacity!=8.4.0,<10.0.0,>=8.1.0 in /Users/mrinalinijadhav/Library/Python/3.9/lib/python/site-packages (from langchain-core<1.0.0,>=0.3.41->langchain) (9.0.0)\r\n",
      "Requirement already satisfied: jsonpatch<2.0,>=1.33 in /Users/mrinalinijadhav/Library/Python/3.9/lib/python/site-packages (from langchain-core<1.0.0,>=0.3.41->langchain) (1.33)\r\n",
      "Requirement already satisfied: typing-extensions>=4.7 in /Users/mrinalinijadhav/Library/Python/3.9/lib/python/site-packages (from langchain-core<1.0.0,>=0.3.41->langchain) (4.12.2)\r\n",
      "Requirement already satisfied: packaging<25,>=23.2 in /Users/mrinalinijadhav/Library/Python/3.9/lib/python/site-packages (from langchain-core<1.0.0,>=0.3.41->langchain) (24.2)\r\n",
      "Requirement already satisfied: jsonpointer>=1.9 in /Users/mrinalinijadhav/Library/Python/3.9/lib/python/site-packages (from jsonpatch<2.0,>=1.33->langchain-core<1.0.0,>=0.3.41->langchain) (3.0.0)\r\n",
      "Requirement already satisfied: requests-toolbelt<2.0.0,>=1.0.0 in /Users/mrinalinijadhav/Library/Python/3.9/lib/python/site-packages (from langsmith<0.4,>=0.1.17->langchain) (1.0.0)\r\n",
      "Requirement already satisfied: orjson<4.0.0,>=3.9.14 in /Users/mrinalinijadhav/Library/Python/3.9/lib/python/site-packages (from langsmith<0.4,>=0.1.17->langchain) (3.10.15)\r\n",
      "Requirement already satisfied: zstandard<0.24.0,>=0.23.0 in /Users/mrinalinijadhav/Library/Python/3.9/lib/python/site-packages (from langsmith<0.4,>=0.1.17->langchain) (0.23.0)\r\n",
      "Requirement already satisfied: httpx<1,>=0.23.0 in /Users/mrinalinijadhav/Library/Python/3.9/lib/python/site-packages (from langsmith<0.4,>=0.1.17->langchain) (0.28.1)\r\n",
      "Requirement already satisfied: idna in /Users/mrinalinijadhav/Library/Python/3.9/lib/python/site-packages (from httpx<1,>=0.23.0->langsmith<0.4,>=0.1.17->langchain) (3.10)\r\n",
      "Requirement already satisfied: certifi in /Users/mrinalinijadhav/Library/Python/3.9/lib/python/site-packages (from httpx<1,>=0.23.0->langsmith<0.4,>=0.1.17->langchain) (2025.1.31)\r\n",
      "Requirement already satisfied: httpcore==1.* in /Users/mrinalinijadhav/Library/Python/3.9/lib/python/site-packages (from httpx<1,>=0.23.0->langsmith<0.4,>=0.1.17->langchain) (1.0.7)\r\n",
      "Requirement already satisfied: anyio in /Users/mrinalinijadhav/Library/Python/3.9/lib/python/site-packages (from httpx<1,>=0.23.0->langsmith<0.4,>=0.1.17->langchain) (4.8.0)\r\n",
      "Requirement already satisfied: h11<0.15,>=0.13 in /Users/mrinalinijadhav/Library/Python/3.9/lib/python/site-packages (from httpcore==1.*->httpx<1,>=0.23.0->langsmith<0.4,>=0.1.17->langchain) (0.14.0)\r\n",
      "Requirement already satisfied: pydantic-core==2.27.2 in /Users/mrinalinijadhav/Library/Python/3.9/lib/python/site-packages (from pydantic<3.0.0,>=2.7.4->langchain) (2.27.2)\r\n",
      "Requirement already satisfied: annotated-types>=0.6.0 in /Users/mrinalinijadhav/Library/Python/3.9/lib/python/site-packages (from pydantic<3.0.0,>=2.7.4->langchain) (0.7.0)\r\n",
      "Requirement already satisfied: charset-normalizer<4,>=2 in /Users/mrinalinijadhav/Library/Python/3.9/lib/python/site-packages (from requests<3,>=2->langchain) (3.4.1)\r\n",
      "Requirement already satisfied: urllib3<3,>=1.21.1 in /Users/mrinalinijadhav/Library/Python/3.9/lib/python/site-packages (from requests<3,>=2->langchain) (2.3.0)\r\n",
      "Requirement already satisfied: exceptiongroup>=1.0.2 in /Users/mrinalinijadhav/Library/Python/3.9/lib/python/site-packages (from anyio->httpx<1,>=0.23.0->langsmith<0.4,>=0.1.17->langchain) (1.2.2)\r\n",
      "Requirement already satisfied: sniffio>=1.1 in /Users/mrinalinijadhav/Library/Python/3.9/lib/python/site-packages (from anyio->httpx<1,>=0.23.0->langsmith<0.4,>=0.1.17->langchain) (1.3.1)\r\n",
      "\u001B[33mWARNING: You are using pip version 21.2.4; however, version 25.0.1 is available.\r\n",
      "You should consider upgrading via the '/Library/Developer/CommandLineTools/usr/bin/python3 -m pip install --upgrade pip' command.\u001B[0m\r\n",
      "Note: you may need to restart the kernel to use updated packages.\n"
     ]
    }
   ],
   "execution_count": 1
  },
  {
   "cell_type": "code",
   "id": "f75274d5-43de-4558-ad22-51aa55c0e9fb",
   "metadata": {
    "ExecuteTime": {
     "end_time": "2025-04-06T00:12:04.225552Z",
     "start_time": "2025-04-06T00:11:57.054652Z"
    }
   },
   "source": [
    "pip install -U langchain-groq"
   ],
   "outputs": [
    {
     "name": "stdout",
     "output_type": "stream",
     "text": [
      "Defaulting to user installation because normal site-packages is not writeable\r\n",
      "Requirement already satisfied: langchain-groq in /Users/mrinalinijadhav/Library/Python/3.9/lib/python/site-packages (0.2.5)\r\n",
      "Collecting langchain-groq\r\n",
      "  Downloading langchain_groq-0.3.2-py3-none-any.whl (15 kB)\r\n",
      "Requirement already satisfied: groq<1,>=0.4.1 in /Users/mrinalinijadhav/Library/Python/3.9/lib/python/site-packages (from langchain-groq) (0.18.0)\r\n",
      "Collecting langchain-core<1.0.0,>=0.3.49\r\n",
      "  Downloading langchain_core-0.3.51-py3-none-any.whl (423 kB)\r\n",
      "\u001B[K     |████████████████████████████████| 423 kB 1.6 MB/s eta 0:00:01\r\n",
      "\u001B[?25hRequirement already satisfied: anyio<5,>=3.5.0 in /Users/mrinalinijadhav/Library/Python/3.9/lib/python/site-packages (from groq<1,>=0.4.1->langchain-groq) (4.8.0)\r\n",
      "Requirement already satisfied: typing-extensions<5,>=4.10 in /Users/mrinalinijadhav/Library/Python/3.9/lib/python/site-packages (from groq<1,>=0.4.1->langchain-groq) (4.12.2)\r\n",
      "Requirement already satisfied: distro<2,>=1.7.0 in /Users/mrinalinijadhav/Library/Python/3.9/lib/python/site-packages (from groq<1,>=0.4.1->langchain-groq) (1.9.0)\r\n",
      "Requirement already satisfied: httpx<1,>=0.23.0 in /Users/mrinalinijadhav/Library/Python/3.9/lib/python/site-packages (from groq<1,>=0.4.1->langchain-groq) (0.28.1)\r\n",
      "Requirement already satisfied: sniffio in /Users/mrinalinijadhav/Library/Python/3.9/lib/python/site-packages (from groq<1,>=0.4.1->langchain-groq) (1.3.1)\r\n",
      "Requirement already satisfied: pydantic<3,>=1.9.0 in /Users/mrinalinijadhav/Library/Python/3.9/lib/python/site-packages (from groq<1,>=0.4.1->langchain-groq) (2.10.6)\r\n",
      "Requirement already satisfied: idna>=2.8 in /Users/mrinalinijadhav/Library/Python/3.9/lib/python/site-packages (from anyio<5,>=3.5.0->groq<1,>=0.4.1->langchain-groq) (3.10)\r\n",
      "Requirement already satisfied: exceptiongroup>=1.0.2 in /Users/mrinalinijadhav/Library/Python/3.9/lib/python/site-packages (from anyio<5,>=3.5.0->groq<1,>=0.4.1->langchain-groq) (1.2.2)\r\n",
      "Requirement already satisfied: certifi in /Users/mrinalinijadhav/Library/Python/3.9/lib/python/site-packages (from httpx<1,>=0.23.0->groq<1,>=0.4.1->langchain-groq) (2025.1.31)\r\n",
      "Requirement already satisfied: httpcore==1.* in /Users/mrinalinijadhav/Library/Python/3.9/lib/python/site-packages (from httpx<1,>=0.23.0->groq<1,>=0.4.1->langchain-groq) (1.0.7)\r\n",
      "Requirement already satisfied: h11<0.15,>=0.13 in /Users/mrinalinijadhav/Library/Python/3.9/lib/python/site-packages (from httpcore==1.*->httpx<1,>=0.23.0->groq<1,>=0.4.1->langchain-groq) (0.14.0)\r\n",
      "Requirement already satisfied: jsonpatch<2.0,>=1.33 in /Users/mrinalinijadhav/Library/Python/3.9/lib/python/site-packages (from langchain-core<1.0.0,>=0.3.49->langchain-groq) (1.33)\r\n",
      "Requirement already satisfied: packaging<25,>=23.2 in /Users/mrinalinijadhav/Library/Python/3.9/lib/python/site-packages (from langchain-core<1.0.0,>=0.3.49->langchain-groq) (24.2)\r\n",
      "Requirement already satisfied: tenacity!=8.4.0,<10.0.0,>=8.1.0 in /Users/mrinalinijadhav/Library/Python/3.9/lib/python/site-packages (from langchain-core<1.0.0,>=0.3.49->langchain-groq) (9.0.0)\r\n",
      "Requirement already satisfied: PyYAML>=5.3 in /Users/mrinalinijadhav/Library/Python/3.9/lib/python/site-packages (from langchain-core<1.0.0,>=0.3.49->langchain-groq) (6.0.2)\r\n",
      "Requirement already satisfied: langsmith<0.4,>=0.1.125 in /Users/mrinalinijadhav/Library/Python/3.9/lib/python/site-packages (from langchain-core<1.0.0,>=0.3.49->langchain-groq) (0.3.13)\r\n",
      "Requirement already satisfied: jsonpointer>=1.9 in /Users/mrinalinijadhav/Library/Python/3.9/lib/python/site-packages (from jsonpatch<2.0,>=1.33->langchain-core<1.0.0,>=0.3.49->langchain-groq) (3.0.0)\r\n",
      "Requirement already satisfied: zstandard<0.24.0,>=0.23.0 in /Users/mrinalinijadhav/Library/Python/3.9/lib/python/site-packages (from langsmith<0.4,>=0.1.125->langchain-core<1.0.0,>=0.3.49->langchain-groq) (0.23.0)\r\n",
      "Requirement already satisfied: requests<3,>=2 in /Users/mrinalinijadhav/Library/Python/3.9/lib/python/site-packages (from langsmith<0.4,>=0.1.125->langchain-core<1.0.0,>=0.3.49->langchain-groq) (2.32.3)\r\n",
      "Requirement already satisfied: orjson<4.0.0,>=3.9.14 in /Users/mrinalinijadhav/Library/Python/3.9/lib/python/site-packages (from langsmith<0.4,>=0.1.125->langchain-core<1.0.0,>=0.3.49->langchain-groq) (3.10.15)\r\n",
      "Requirement already satisfied: requests-toolbelt<2.0.0,>=1.0.0 in /Users/mrinalinijadhav/Library/Python/3.9/lib/python/site-packages (from langsmith<0.4,>=0.1.125->langchain-core<1.0.0,>=0.3.49->langchain-groq) (1.0.0)\r\n",
      "Requirement already satisfied: annotated-types>=0.6.0 in /Users/mrinalinijadhav/Library/Python/3.9/lib/python/site-packages (from pydantic<3,>=1.9.0->groq<1,>=0.4.1->langchain-groq) (0.7.0)\r\n",
      "Requirement already satisfied: pydantic-core==2.27.2 in /Users/mrinalinijadhav/Library/Python/3.9/lib/python/site-packages (from pydantic<3,>=1.9.0->groq<1,>=0.4.1->langchain-groq) (2.27.2)\r\n",
      "Requirement already satisfied: urllib3<3,>=1.21.1 in /Users/mrinalinijadhav/Library/Python/3.9/lib/python/site-packages (from requests<3,>=2->langsmith<0.4,>=0.1.125->langchain-core<1.0.0,>=0.3.49->langchain-groq) (2.3.0)\r\n",
      "Requirement already satisfied: charset-normalizer<4,>=2 in /Users/mrinalinijadhav/Library/Python/3.9/lib/python/site-packages (from requests<3,>=2->langsmith<0.4,>=0.1.125->langchain-core<1.0.0,>=0.3.49->langchain-groq) (3.4.1)\r\n",
      "Installing collected packages: langchain-core, langchain-groq\r\n",
      "  Attempting uninstall: langchain-core\r\n",
      "    Found existing installation: langchain-core 0.3.43\r\n",
      "    Uninstalling langchain-core-0.3.43:\r\n",
      "      Successfully uninstalled langchain-core-0.3.43\r\n",
      "  Attempting uninstall: langchain-groq\r\n",
      "    Found existing installation: langchain-groq 0.2.5\r\n",
      "    Uninstalling langchain-groq-0.2.5:\r\n",
      "      Successfully uninstalled langchain-groq-0.2.5\r\n",
      "Successfully installed langchain-core-0.3.51 langchain-groq-0.3.2\r\n",
      "\u001B[33mWARNING: You are using pip version 21.2.4; however, version 25.0.1 is available.\r\n",
      "You should consider upgrading via the '/Library/Developer/CommandLineTools/usr/bin/python3 -m pip install --upgrade pip' command.\u001B[0m\r\n",
      "Note: you may need to restart the kernel to use updated packages.\n"
     ]
    }
   ],
   "execution_count": 2
  },
  {
   "cell_type": "code",
   "execution_count": 9,
   "id": "e40e59c4-db8d-45d2-b217-06f6bb80cda8",
   "metadata": {},
   "outputs": [
    {
     "name": "stdout",
     "output_type": "stream",
     "text": [
      "The first person to land on the moon was Neil Armstrong. He stepped out of the lunar module Eagle and onto the moon's surface on July 20, 1969, during the Apollo 11 mission. Armstrong famously declared, \"That's one small step for man, one giant leap for mankind,\" as he became the first human to set foot on the moon.\n"
     ]
    }
   ],
   "source": [
    "from langchain_groq import ChatGroq\n",
    "\n",
    "llm = ChatGroq(\n",
    "    \n",
    "    temperature=0.0,\n",
    "    groq_api_key ='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',\n",
    "    model=\"llama-3.1-8b-instant\"\n",
    "    \n",
    " \n",
    "    # other params...\n",
    ")\n",
    "response = llm.invoke('The first person to land on moon was ...')\n",
    "print(response.content)"
   ]
  },
  {
   "cell_type": "code",
   "execution_count": null,
   "id": "56b7051c-80f2-4928-ac36-66a4e44f2954",
   "metadata": {},
   "outputs": [],
   "source": [
    "pip install chromadb\n"
   ]
  },
  {
   "cell_type": "code",
   "execution_count": 1,
   "id": "e0831f57-f81e-454e-8924-afca526d8eb7",
   "metadata": {},
   "outputs": [],
   "source": [
    "import chromadb\n",
    "chroma_client = chromadb.Client()\n",
    "collection = chroma_client.create_collection(name=\"my_collection\")\n",
    "\n"
   ]
  },
  {
   "cell_type": "code",
   "execution_count": 2,
   "id": "fee00d1b-4105-45b1-bea0-a8967406ae97",
   "metadata": {},
   "outputs": [],
   "source": [
    "collection.add(\n",
    "    documents=[\n",
    "        \"This is a document about New York\",\n",
    "        \"This is a document about New Delhi\"\n",
    "    ],\n",
    "    ids=[\"id1\", \"id2\"]\n",
    ")\n"
   ]
  },
  {
   "cell_type": "code",
   "execution_count": 3,
   "id": "9735cca5-3b82-4a8d-b52e-cc12f0d039ff",
   "metadata": {},
   "outputs": [],
   "source": [
    "all_docs = collection.get()"
   ]
  },
  {
   "cell_type": "code",
   "execution_count": 4,
   "id": "a1d4dfa7-7567-4223-a429-91c7125f42c1",
   "metadata": {},
   "outputs": [
    {
     "data": {
      "text/plain": [
       "{'ids': ['id1', 'id2'],\n",
       " 'embeddings': None,\n",
       " 'documents': ['This is a document about New York',\n",
       "  'This is a document about New Delhi'],\n",
       " 'uris': None,\n",
       " 'data': None,\n",
       " 'metadatas': [None, None],\n",
       " 'included': [<IncludeEnum.documents: 'documents'>,\n",
       "  <IncludeEnum.metadatas: 'metadatas'>]}"
      ]
     },
     "execution_count": 4,
     "metadata": {},
     "output_type": "execute_result"
    }
   ],
   "source": [
    "all_docs"
   ]
  },
  {
   "cell_type": "code",
   "execution_count": 5,
   "id": "bf84a597-aa0b-4093-9226-ad3b363916fa",
   "metadata": {},
   "outputs": [
    {
     "data": {
      "text/plain": [
       "{'ids': ['id2'],\n",
       " 'embeddings': None,\n",
       " 'documents': ['This is a document about New Delhi'],\n",
       " 'uris': None,\n",
       " 'data': None,\n",
       " 'metadatas': [None],\n",
       " 'included': [<IncludeEnum.documents: 'documents'>,\n",
       "  <IncludeEnum.metadatas: 'metadatas'>]}"
      ]
     },
     "execution_count": 5,
     "metadata": {},
     "output_type": "execute_result"
    }
   ],
   "source": [
    "documents = collection.get(ids=[\"id2\"])\n",
    "documents"
   ]
  },
  {
   "cell_type": "code",
   "execution_count": 7,
   "id": "b25cc167-6555-4f04-8ce1-01d1e1cd2974",
   "metadata": {},
   "outputs": [
    {
     "name": "stdout",
     "output_type": "stream",
     "text": [
      "{'ids': [['id1', 'id2']], 'embeddings': None, 'documents': [['This is a document about New York', 'This is a document about New Delhi']], 'uris': None, 'data': None, 'metadatas': [[None, None]], 'distances': [[1.370713710784912, 1.5088074207305908]], 'included': [<IncludeEnum.distances: 'distances'>, <IncludeEnum.documents: 'documents'>, <IncludeEnum.metadatas: 'metadatas'>]}\n"
     ]
    }
   ],
   "source": [
    "results = collection.query(\n",
    "    query_texts=[\"This is a query document about  Cheese Pizza\"], # Chroma will embed this for you\n",
    "    n_results=2 # how many results to return\n",
    ")\n",
    "print(results)\n"
   ]
  },
  {
   "cell_type": "code",
   "execution_count": 9,
   "id": "b68bef83-b6c1-4ffa-9717-a24dd902c1ec",
   "metadata": {},
   "outputs": [],
   "source": [
    "collection.add(\n",
    "    documents=[\n",
    "        \"This is a document about Orange\",\n",
    "        \"This is a document about Pineapple\"\n",
    "    ],\n",
    "    ids=[\"id3\", \"id4\"],\n",
    "    metadatas=[\n",
    "        {'url': \"https://en.wikipedia.org/wiki/New_York_City\"},\n",
    "        {'url': \"https://en.wikipedia.org/wiki/New_Delhi\"}\n",
    "    ]\n",
    ")\n"
   ]
  },
  {
   "cell_type": "code",
   "execution_count": 11,
   "id": "aa125308-7a23-438d-be56-7514ed2a9af5",
   "metadata": {},
   "outputs": [
    {
     "name": "stdout",
     "output_type": "stream",
     "text": [
      "{'ids': [['id2', 'id4', 'id1', 'id3']], 'embeddings': None, 'documents': [['This is a document about New Delhi', 'This is a document about Pineapple', 'This is a document about New York', 'This is a document about Orange']], 'uris': None, 'data': None, 'metadatas': [[None, {'url': 'https://en.wikipedia.org/wiki/New_Delhi'}, None, {'url': 'https://en.wikipedia.org/wiki/New_York_City'}]], 'distances': [[0.9952965974807739, 1.3934032917022705, 1.446398138999939, 1.5896544456481934]], 'included': [<IncludeEnum.distances: 'distances'>, <IncludeEnum.documents: 'documents'>, <IncludeEnum.metadatas: 'metadatas'>]}\n"
     ]
    }
   ],
   "source": [
    "results = collection.query(\n",
    "    query_texts=[\"This is a query document about  Nagpur\"], # Chroma will embed this for you\n",
    "    n_results=4 # how many results to return\n",
    ")\n",
    "print(results)\n"
   ]
  },
  {
   "cell_type": "code",
   "execution_count": 12,
   "id": "edee403b-e9cd-46e9-98aa-c392ec5214ea",
   "metadata": {},
   "outputs": [
    {
     "data": {
      "text/plain": [
       "{'ids': ['id3', 'id4'],\n",
       " 'embeddings': None,\n",
       " 'documents': ['This is a document about Orange',\n",
       "  'This is a document about Pineapple'],\n",
       " 'uris': None,\n",
       " 'data': None,\n",
       " 'metadatas': [{'url': 'https://en.wikipedia.org/wiki/New_York_City'},\n",
       "  {'url': 'https://en.wikipedia.org/wiki/New_Delhi'}],\n",
       " 'included': [<IncludeEnum.documents: 'documents'>,\n",
       "  <IncludeEnum.metadatas: 'metadatas'>]}"
      ]
     },
     "execution_count": 12,
     "metadata": {},
     "output_type": "execute_result"
    }
   ],
   "source": [
    "collection.delete(ids = all_docs['ids'])\n",
    "collection.get()"
   ]
  },
  {
   "cell_type": "code",
   "execution_count": 6,
   "id": "e525b9c7-e74c-4ca2-81b5-f9468a026cc5",
   "metadata": {},
   "outputs": [
    {
     "name": "stdout",
     "output_type": "stream",
     "text": [
      "\n",
      "\n",
      "\n",
      "\n",
      "\n",
      "\n",
      "\n",
      "\n",
      "\n",
      "Junior Server Engineer - Health Software - Careers at Apple\n",
      "\n",
      "\n",
      "\n",
      "\n",
      "\n",
      "\n",
      "\n",
      "AppleStoreMaciPadiPhoneWatchVisionAirPodsTV & HomeEntertainmentAccessoriesSupport\n",
      "\n",
      "\n",
      "0+\n",
      "Careers at AppleOpen MenuClose Menu\n",
      "\n",
      "      Work at Apple\n",
      "    \n",
      " \n",
      "\n",
      "      Life at Apple\n",
      "    \n",
      " \n",
      "\n",
      "      Profile\n",
      "    \n",
      " \n",
      "\n",
      "      Sign In\n",
      "    \n",
      " \n",
      "Search\n",
      "Jobs at Apple\n",
      "Junior Server Engineer - Health SoftwareSunnyvale, California, United StatesSoftware and ServicesAdd to Favorites Junior Server Engineer - Health SoftwareRemoved from favoritesAdd a favoriteCloseTo view your favorites, sign in with your Apple Account.Sign InDon’t have an Apple Account?Create one nowForgot your Apple Account or password?Submit ResumeJunior Server Engineer - Health SoftwareBack to search resultsSummaryPosted: Jan 24, 2025Weekly Hours: 40 Role Number:200576351Imagine what you could do here. At Apple, great ideas have a way of becoming great products, services, and customer experiences very quickly - making the kind of impact that changes people's lives.\n",
      "\n",
      "The Apple Health Software team embodies the core Apple values around delighting our customers with groundbreaking user experiences, empowering users to live a better - and healthier - life, while keeping their data safe, private, and secure.\n",
      "\n",
      "We are seeking a curious and self-driven server software engineer to join Apple’s Health team to contribute to efforts supporting Apple’s health research platform and tools. Our work helps to advance health research and supports the next generation of innovation in our Health products. As a member of our team, you will have the opportunity to enable teams across the company to conduct health research and ensure that research participant data is safe, private, and secure.DescriptionDescriptionWe are seeking a curious and self-driven server software engineer to help design, implement, and deliver scalable and secure health research tools. As a member of our fast-paced group in Apple Health, you will have the opportunity to work cross functionally with various stakeholders. In addition to using technical knowledge to drive features and improvements, you must be comfortable with evolving requirements and have excellent interpersonal skills. Success depends on working with cross-functional teams. Our primary responsibilities are delivering high-quality, reliable, and secure platform features and tools to support data storage, large-scale analysis, and algorithm development.\n",
      "\n",
      "\n",
      "Responsibilities include:\n",
      "-  Collaborating with cross functional partners to understand their needs and requirements\n",
      "-  Designing and implementing software to improve our platform\n",
      "-  Clearly communicating with the team, managers, and cross-functional partners\n",
      "-  Working with others to deliver new features from concept to production\n",
      "-  Investigating and debugging production applications and systemsMinimum QualificationsMinimum QualificationsExperience developing, testing, and delivering softwareStrong communication and collaboration skillsFamiliarity with an object-oriented language (Java or Python preferred)BS Computer Science or equivalent experienceKey QualificationsKey QualificationsPreferred QualificationsPreferred QualificationsSome knowledge of micro-services architecture and API patternsExperience with relational databases, no-SQL databases, or blob storageFamiliarity with public cloud infrastructure and platform servicesEducation & ExperienceEducation & ExperienceAdditional RequirementsAdditional RequirementsPay & BenefitsPay & BenefitsAt Apple, base pay is one part of our total compensation package and is determined within a range. This provides the opportunity to progress as you grow and develop within a role. The base pay range for this role is between $121,900 and $214,500, and your base pay will depend on your skills, qualifications, experience, and location.Apple employees also have the opportunity to become an Apple shareholder through participation in Apple’s discretionary employee stock programs. Apple employees are eligible for discretionary restricted stock unit awards, and can purchase Apple stock at a discount if voluntarily participating in Apple’s Employee Stock Purchase Plan. You’ll also receive benefits including: Comprehensive medical and dental coverage, retirement benefits, a range of discounted products and free services, and for formal education related to advancing your career at Apple, reimbursement for certain educational expenses — including tuition. Additionally, this role might be eligible for discretionary bonuses or commission payments as well as relocation. Learn more about Apple Benefits.Note: Apple benefit, compensation and employee stock programs are subject to eligibility requirements and other terms of the applicable plan or program.MoreApple is an equal opportunity employer that is committed to inclusion and diversity. We take affirmative action to ensure equal opportunity for all applicants without regard to race, color, religion, sex, sexual orientation, gender identity, national origin, disability, Veteran status, or other legally protected characteristics. Learn more about your EEO rights as an applicant.Submit ResumeJunior Server Engineer - Health SoftwareBack to search resultsAdd to Favorites Junior Server Engineer - Health SoftwareRemoved from favoritesAdd a favoriteCloseTo view your favorites, sign in with your Apple Account.Sign InDon’t have an Apple Account?Create one nowForgot your Apple Account or password?See all roles in  Sunnyvale  \n",
      "Apple FooterApple is an equal opportunity employer that is committed to inclusion and diversity. We take affirmative action to ensure equal opportunity for all applicants without regard to race, color, religion, sex, sexual orientation, gender identity, national origin, disability, Veteran status, or other legally protected characteristics. Learn more about your EEO rights as an applicant (Opens in a new window) .Apple will not discriminate or retaliate against applicants who inquire about, disclose, or discuss their compensation or that of other applicants.  United States Department of Labor. Learn more (Opens in a new window) .Apple participates in the E-Verify program in certain locations as required by law. Learn more about the E-Verify program (Opens in a new window) .Apple is committed to working with and providing reasonable accommodation to applicants with physical and mental disabilities.  Reasonable Accommodation and Drug Free Workplace policyLearn more (Opens in a new window) .Apple is a drug-free workplace.  Reasonable Accommodation and Drug Free Workplace policyLearn more (Opens in a new window) .Apple will consider for employment all qualified applicants with criminal histories in a manner consistent with applicable law. If you’re applying for a position in San Francisco, review the  San Francisco Fair Chance Ordinance guidelines (opens in a new window)  applicable in your area.It is unlawful in Massachusetts to require or administer a lie detector test as a condition of employment or continued employment. An employer who violates this law shall be subject to criminal penalties and civil liability.AppleCareers at AppleCareers at AppleShop and LearnShop and LearnStoreMaciPadiPhoneWatchVisionAirPodsTV & HomeAirTagAccessoriesGift CardsApple WalletApple WalletWalletApple CardApple PayApple CashAccountAccountManage Your Apple AccountApple Store AccountiCloud.comEntertainmentEntertainmentApple OneApple TV+Apple MusicApple ArcadeApple Fitness+Apple News+Apple PodcastsApple BooksApp StoreApple StoreApple StoreFind a StoreGenius BarToday at AppleGroup ReservationsApple CampApple Store AppCertified RefurbishedApple Trade InFinancingCarrier Deals at AppleOrder StatusShopping HelpFor BusinessFor BusinessApple and BusinessShop for BusinessFor EducationFor EducationApple and EducationShop for K-12Shop for CollegeFor HealthcareFor HealthcareApple in HealthcareMac in HealthcareHealth on Apple WatchHealth Records on iPhone and iPadFor GovernmentFor GovernmentShop for GovernmentShop for Veterans and MilitaryApple ValuesApple ValuesAccessibilityEducationEnvironmentInclusion and DiversityPrivacyRacial Equity and JusticeSupply ChainAbout AppleAbout AppleNewsroomApple LeadershipCareer OpportunitiesInvestorsEthics & ComplianceEventsContact Apple\n",
      "More ways to shop: Find an Apple Store or other retailer near you. Or call 1-800-MY-APPLE.United StatesCopyright © 2025 Apple Inc. All rights reserved.Privacy PolicyTerms of UseSales and RefundsLegalSite Map\n",
      "\n",
      "\n",
      "\n",
      "\n",
      "\n",
      "\n",
      "\n",
      "\n",
      "\n",
      "\n",
      "\n"
     ]
    }
   ],
   "source": [
    "from langchain_community.document_loaders import WebBaseLoader\n",
    "\n",
    "loader = WebBaseLoader(\"https://jobs.apple.com/en-us/details/200576351/junior-server-engineer-health-software\")\n",
    "page_data = loader.load().pop().page_content\n",
    "print(page_data)"
   ]
  },
  {
   "cell_type": "code",
   "execution_count": 10,
   "id": "7d1b922c-dce7-4859-809a-b890d9a19d75",
   "metadata": {},
   "outputs": [
    {
     "name": "stdout",
     "output_type": "stream",
     "text": [
      "```json\n",
      "[\n",
      "  {\n",
      "    \"role\": \"Junior Server Engineer - Health Software\",\n",
      "    \"experience\": {\n",
      "      \"minimum\": {\n",
      "        \"experience\": \"developing, testing, and delivering software\",\n",
      "        \"communication\": \"Strong communication and collaboration skills\",\n",
      "        \"language\": \"Familiarity with an object-oriented language (Java or Python preferred)\",\n",
      "        \"education\": \"BS Computer Science or equivalent experience\"\n",
      "      },\n",
      "      \"key\": {\n",
      "        \"architecture\": \"Some knowledge of micro-services architecture and API patterns\",\n",
      "        \"databases\": \"Experience with relational databases, no-SQL databases, or blob storage\",\n",
      "        \"infrastructure\": \"Familiarity with public cloud infrastructure and platform services\"\n",
      "      }\n",
      "    },\n",
      "    \"skills\": {\n",
      "      \"programming\": \"Java, Python\",\n",
      "      \"databases\": \"relational, no-SQL, blob storage\",\n",
      "      \"architecture\": \"micro-services, API patterns\",\n",
      "      \"infrastructure\": \"public cloud\"\n",
      "    },\n",
      "    \"description\": \"We are seeking a curious and self-driven server software engineer to help design, implement, and deliver scalable and secure health research tools. As a member of our fast-paced group in Apple Health, you will have the opportunity to work cross functionally with various stakeholders.\"\n",
      "  }\n",
      "]\n",
      "```\n",
      "\n",
      "Note: The extracted information is based on the provided text and might not be comprehensive or up-to-date. The JSON structure is designed to accommodate the available information.\n"
     ]
    }
   ],
   "source": [
    "from langchain_core.prompts import PromptTemplate\n",
    "\n",
    "# Instantiation using from_template (recommended)\n",
    "prompt = PromptTemplate.from_template(\n",
    "    \"\"\"\n",
    "    {page_data}\n",
    "    ###INSTRUCTION:\n",
    "    The scraped text is from the career's page of a website.\n",
    "    Your job is to extract the job postings and return them in JSON format containing\n",
    "    the following keys: `role`, `experience`, `skills`, and `description`.\n",
    "    Only return the valid JSON.\n",
    "    ### VALID JSON (NO PREAMBLE):\n",
    "\n",
    "    \"\"\"\n",
    ")\n",
    "\n",
    "chain_extract = prompt | llm\n",
    "res = chain_extract.invoke({'page_data': page_data})\n",
    "print(res.content)\n"
   ]
  },
  {
   "cell_type": "code",
   "execution_count": 11,
   "id": "9f1b912f-28ce-445b-bdd4-edf27b5816b2",
   "metadata": {},
   "outputs": [],
   "source": [
    "from langchain_core.output_parsers import JsonOutputParser\n",
    "\n",
    "json_parser =  JsonOutputParser()\n",
    "json_res = json_parser.parse(res.content)"
   ]
  },
  {
   "cell_type": "code",
   "execution_count": 12,
   "id": "2f5942a0-3a74-4afe-a311-971615813cee",
   "metadata": {},
   "outputs": [
    {
     "data": {
      "text/plain": [
       "[{'role': 'Junior Server Engineer - Health Software',\n",
       "  'experience': {'minimum': {'experience': 'developing, testing, and delivering software',\n",
       "    'communication': 'Strong communication and collaboration skills',\n",
       "    'language': 'Familiarity with an object-oriented language (Java or Python preferred)',\n",
       "    'education': 'BS Computer Science or equivalent experience'},\n",
       "   'key': {'architecture': 'Some knowledge of micro-services architecture and API patterns',\n",
       "    'databases': 'Experience with relational databases, no-SQL databases, or blob storage',\n",
       "    'infrastructure': 'Familiarity with public cloud infrastructure and platform services'}},\n",
       "  'skills': {'programming': 'Java, Python',\n",
       "   'databases': 'relational, no-SQL, blob storage',\n",
       "   'architecture': 'micro-services, API patterns',\n",
       "   'infrastructure': 'public cloud'},\n",
       "  'description': 'We are seeking a curious and self-driven server software engineer to help design, implement, and deliver scalable and secure health research tools. As a member of our fast-paced group in Apple Health, you will have the opportunity to work cross functionally with various stakeholders.'}]"
      ]
     },
     "execution_count": 12,
     "metadata": {},
     "output_type": "execute_result"
    }
   ],
   "source": [
    "json_res"
   ]
  },
  {
   "cell_type": "code",
   "execution_count": 13,
   "id": "bbaddf90-b5c8-499a-9ea2-42c5224666ec",
   "metadata": {},
   "outputs": [
    {
     "data": {
      "text/plain": [
       "list"
      ]
     },
     "execution_count": 13,
     "metadata": {},
     "output_type": "execute_result"
    }
   ],
   "source": [
    "type(json_res)"
   ]
  },
  {
   "cell_type": "code",
   "execution_count": 14,
   "id": "5d7f0847-44cd-4f6e-8271-eaee523e94e8",
   "metadata": {},
   "outputs": [
    {
     "name": "stdout",
     "output_type": "stream",
     "text": [
      "{'role': 'Junior Server Engineer - Health Software', 'experience': {'minimum': {'experience': 'developing, testing, and delivering software', 'communication': 'Strong communication and collaboration skills', 'language': 'Familiarity with an object-oriented language (Java or Python preferred)', 'education': 'BS Computer Science or equivalent experience'}, 'key': {'architecture': 'Some knowledge of micro-services architecture and API patterns', 'databases': 'Experience with relational databases, no-SQL databases, or blob storage', 'infrastructure': 'Familiarity with public cloud infrastructure and platform services'}}, 'skills': {'programming': 'Java, Python', 'databases': 'relational, no-SQL, blob storage', 'architecture': 'micro-services, API patterns', 'infrastructure': 'public cloud'}, 'description': 'We are seeking a curious and self-driven server software engineer to help design, implement, and deliver scalable and secure health research tools. As a member of our fast-paced group in Apple Health, you will have the opportunity to work cross functionally with various stakeholders.'}\n"
     ]
    }
   ],
   "source": [
    "from langchain_core.output_parsers import JsonOutputParser\n",
    "\n",
    "json_parser = JsonOutputParser()\n",
    "json_res = json_parser.parse(res.content)\n",
    "\n",
    "# If json_res is a list but you need a dictionary\n",
    "if isinstance(json_res, list) and len(json_res) > 0:\n",
    "    json_res = json_res[0]  # Extract the first dictionary if applicable\n",
    "\n",
    "print(json_res)  # Now it's a dictionary\n"
   ]
  },
  {
   "cell_type": "code",
   "execution_count": 15,
   "id": "d2f1fcc3-c91d-48e2-b914-feaa23962345",
   "metadata": {},
   "outputs": [
    {
     "data": {
      "text/plain": [
       "dict"
      ]
     },
     "execution_count": 15,
     "metadata": {},
     "output_type": "execute_result"
    }
   ],
   "source": [
    "type(json_res)"
   ]
  },
  {
   "cell_type": "code",
   "execution_count": 18,
   "id": "f4ea74e7-cd8c-43e8-bb43-df01568f9674",
   "metadata": {},
   "outputs": [
    {
     "data": {
      "text/html": [
       "<div>\n",
       "<style scoped>\n",
       "    .dataframe tbody tr th:only-of-type {\n",
       "        vertical-align: middle;\n",
       "    }\n",
       "\n",
       "    .dataframe tbody tr th {\n",
       "        vertical-align: top;\n",
       "    }\n",
       "\n",
       "    .dataframe thead th {\n",
       "        text-align: right;\n",
       "    }\n",
       "</style>\n",
       "<table border=\"1\" class=\"dataframe\">\n",
       "  <thead>\n",
       "    <tr style=\"text-align: right;\">\n",
       "      <th></th>\n",
       "      <th>Techstack</th>\n",
       "      <th>Links</th>\n",
       "    </tr>\n",
       "  </thead>\n",
       "  <tbody>\n",
       "    <tr>\n",
       "      <th>0</th>\n",
       "      <td>React, Node.js, MongoDB</td>\n",
       "      <td>https://example.com/react-portfolio</td>\n",
       "    </tr>\n",
       "    <tr>\n",
       "      <th>1</th>\n",
       "      <td>Angular,.NET, SQL Server</td>\n",
       "      <td>https://example.com/angular-portfolio</td>\n",
       "    </tr>\n",
       "    <tr>\n",
       "      <th>2</th>\n",
       "      <td>Vue.js, Ruby on Rails, PostgreSQL</td>\n",
       "      <td>https://example.com/vue-portfolio</td>\n",
       "    </tr>\n",
       "    <tr>\n",
       "      <th>3</th>\n",
       "      <td>Python, Django, MySQL</td>\n",
       "      <td>https://example.com/python-portfolio</td>\n",
       "    </tr>\n",
       "    <tr>\n",
       "      <th>4</th>\n",
       "      <td>Java, Spring Boot, Oracle</td>\n",
       "      <td>https://example.com/java-portfolio</td>\n",
       "    </tr>\n",
       "    <tr>\n",
       "      <th>5</th>\n",
       "      <td>Flutter, Firebase, GraphQL</td>\n",
       "      <td>https://example.com/flutter-portfolio</td>\n",
       "    </tr>\n",
       "    <tr>\n",
       "      <th>6</th>\n",
       "      <td>WordPress, PHP, MySQL</td>\n",
       "      <td>https://example.com/wordpress-portfolio</td>\n",
       "    </tr>\n",
       "    <tr>\n",
       "      <th>7</th>\n",
       "      <td>Magento, PHP, MySQL</td>\n",
       "      <td>https://example.com/magento-portfolio</td>\n",
       "    </tr>\n",
       "    <tr>\n",
       "      <th>8</th>\n",
       "      <td>React Native, Node.js, MongoDB</td>\n",
       "      <td>https://example.com/react-native-portfolio</td>\n",
       "    </tr>\n",
       "    <tr>\n",
       "      <th>9</th>\n",
       "      <td>iOS, Swift, Core Data</td>\n",
       "      <td>https://example.com/ios-portfolio</td>\n",
       "    </tr>\n",
       "    <tr>\n",
       "      <th>10</th>\n",
       "      <td>Android, Java, Room Persistence</td>\n",
       "      <td>https://example.com/android-portfolio</td>\n",
       "    </tr>\n",
       "    <tr>\n",
       "      <th>11</th>\n",
       "      <td>Kotlin, Android, Firebase</td>\n",
       "      <td>https://example.com/kotlin-android-portfolio</td>\n",
       "    </tr>\n",
       "    <tr>\n",
       "      <th>12</th>\n",
       "      <td>Android TV, Kotlin, Android NDK</td>\n",
       "      <td>https://example.com/android-tv-portfolio</td>\n",
       "    </tr>\n",
       "    <tr>\n",
       "      <th>13</th>\n",
       "      <td>iOS, Swift, ARKit</td>\n",
       "      <td>https://example.com/ios-ar-portfolio</td>\n",
       "    </tr>\n",
       "    <tr>\n",
       "      <th>14</th>\n",
       "      <td>Cross-platform, Xamarin, Azure</td>\n",
       "      <td>https://example.com/xamarin-portfolio</td>\n",
       "    </tr>\n",
       "    <tr>\n",
       "      <th>15</th>\n",
       "      <td>Backend, Kotlin, Spring Boot</td>\n",
       "      <td>https://example.com/kotlin-backend-portfolio</td>\n",
       "    </tr>\n",
       "    <tr>\n",
       "      <th>16</th>\n",
       "      <td>Frontend, TypeScript, Angular</td>\n",
       "      <td>https://example.com/typescript-frontend-portfolio</td>\n",
       "    </tr>\n",
       "    <tr>\n",
       "      <th>17</th>\n",
       "      <td>Full-stack, JavaScript, Express.js</td>\n",
       "      <td>https://example.com/full-stack-js-portfolio</td>\n",
       "    </tr>\n",
       "    <tr>\n",
       "      <th>18</th>\n",
       "      <td>Machine Learning, Python, TensorFlow</td>\n",
       "      <td>https://example.com/ml-python-portfolio</td>\n",
       "    </tr>\n",
       "    <tr>\n",
       "      <th>19</th>\n",
       "      <td>DevOps, Jenkins, Docker</td>\n",
       "      <td>https://example.com/devops-portfolio</td>\n",
       "    </tr>\n",
       "  </tbody>\n",
       "</table>\n",
       "</div>"
      ],
      "text/plain": [
       "                               Techstack  \\\n",
       "0                React, Node.js, MongoDB   \n",
       "1               Angular,.NET, SQL Server   \n",
       "2      Vue.js, Ruby on Rails, PostgreSQL   \n",
       "3                  Python, Django, MySQL   \n",
       "4              Java, Spring Boot, Oracle   \n",
       "5             Flutter, Firebase, GraphQL   \n",
       "6                  WordPress, PHP, MySQL   \n",
       "7                    Magento, PHP, MySQL   \n",
       "8         React Native, Node.js, MongoDB   \n",
       "9                  iOS, Swift, Core Data   \n",
       "10       Android, Java, Room Persistence   \n",
       "11             Kotlin, Android, Firebase   \n",
       "12       Android TV, Kotlin, Android NDK   \n",
       "13                     iOS, Swift, ARKit   \n",
       "14        Cross-platform, Xamarin, Azure   \n",
       "15          Backend, Kotlin, Spring Boot   \n",
       "16         Frontend, TypeScript, Angular   \n",
       "17    Full-stack, JavaScript, Express.js   \n",
       "18  Machine Learning, Python, TensorFlow   \n",
       "19               DevOps, Jenkins, Docker   \n",
       "\n",
       "                                                Links  \n",
       "0                 https://example.com/react-portfolio  \n",
       "1               https://example.com/angular-portfolio  \n",
       "2                   https://example.com/vue-portfolio  \n",
       "3                https://example.com/python-portfolio  \n",
       "4                  https://example.com/java-portfolio  \n",
       "5               https://example.com/flutter-portfolio  \n",
       "6             https://example.com/wordpress-portfolio  \n",
       "7               https://example.com/magento-portfolio  \n",
       "8          https://example.com/react-native-portfolio  \n",
       "9                   https://example.com/ios-portfolio  \n",
       "10              https://example.com/android-portfolio  \n",
       "11       https://example.com/kotlin-android-portfolio  \n",
       "12           https://example.com/android-tv-portfolio  \n",
       "13               https://example.com/ios-ar-portfolio  \n",
       "14              https://example.com/xamarin-portfolio  \n",
       "15       https://example.com/kotlin-backend-portfolio  \n",
       "16  https://example.com/typescript-frontend-portfolio  \n",
       "17        https://example.com/full-stack-js-portfolio  \n",
       "18            https://example.com/ml-python-portfolio  \n",
       "19               https://example.com/devops-portfolio  "
      ]
     },
     "execution_count": 18,
     "metadata": {},
     "output_type": "execute_result"
    }
   ],
   "source": [
    "import pandas as pd\n",
    "df = pd.read_csv('my_portfolio.csv')\n",
    "df"
   ]
  },
  {
   "cell_type": "code",
   "execution_count": 20,
   "id": "7ff9cb61-6051-41e5-8cda-88ef63397eaf",
   "metadata": {},
   "outputs": [],
   "source": [
    "import chromadb\n",
    "import uuid  # Import uuid module\n",
    "import pandas as pd  # Ensure pandas is imported\n",
    "\n",
    "# Initialize ChromaDB persistent client\n",
    "client = chromadb.PersistentClient('vectorstore')\n",
    "\n",
    "# Create or retrieve collection\n",
    "collection = client.get_or_create_collection(name=\"portfolio\")\n",
    "\n",
    "# Ensure df exists and has required columns\n",
    "if not collection.count():\n",
    "    for _, row in df.iterrows():\n",
    "        collection.add(\n",
    "            documents=[row[\"Techstack\"]],  # Should be a list\n",
    "            metadatas=[{\"links\": row[\"Links\"]}],  # Should be a list of dicts\n",
    "            ids=[str(uuid.uuid4())]  # Generate unique ID\n",
    "        )\n"
   ]
  },
  {
   "cell_type": "code",
   "execution_count": 24,
   "id": "8e98e0dd-80e6-4686-bbb6-0f4ec0cbde52",
   "metadata": {},
   "outputs": [
    {
     "data": {
      "text/plain": [
       "[[{'links': 'https://example.com/ml-python-portfolio'},\n",
       "  {'links': 'https://example.com/python-portfolio'}],\n",
       " [{'links': 'https://example.com/react-portfolio'},\n",
       "  {'links': 'https://example.com/react-native-portfolio'}]]"
      ]
     },
     "execution_count": 24,
     "metadata": {},
     "output_type": "execute_result"
    }
   ],
   "source": [
    "# Query the collection for relevant documents\n",
    "results = collection.query(\n",
    "    query_texts=[\"Experience in Python\", \"Expertise in React\"], \n",
    "    n_results=2  # Specify the number of results to retrieve\n",
    ").get('metadatas')\n",
    "\n",
    "# Print results\n",
    "results\n"
   ]
  },
  {
   "cell_type": "code",
   "execution_count": 26,
   "id": "8c4ff6cb-80c1-4eec-b652-95c112ecba1b",
   "metadata": {},
   "outputs": [
    {
     "data": {
      "text/plain": [
       "[[{'links': 'https://example.com/ml-python-portfolio'},\n",
       "  {'links': 'https://example.com/python-portfolio'}]]"
      ]
     },
     "execution_count": 26,
     "metadata": {},
     "output_type": "execute_result"
    }
   ],
   "source": [
    "# Query the collection for relevant documents\n",
    "results = collection.query(\n",
    "    query_texts=[\"skills\"], \n",
    "    n_results=2  # Specify the number of results to retrieve\n",
    ").get('metadatas',[])\n",
    "\n",
    "# Print results\n",
    "results"
   ]
  },
  {
   "cell_type": "code",
   "execution_count": 27,
   "id": "7b622482-bb01-4931-895e-2c79987d39bd",
   "metadata": {},
   "outputs": [
    {
     "data": {
      "text/plain": [
       "{'programming': 'Java, Python',\n",
       " 'databases': 'relational, no-SQL, blob storage',\n",
       " 'architecture': 'micro-services, API patterns',\n",
       " 'infrastructure': 'public cloud'}"
      ]
     },
     "execution_count": 27,
     "metadata": {},
     "output_type": "execute_result"
    }
   ],
   "source": [
    "job = json_res\n",
    "job['skills']"
   ]
  },
  {
   "cell_type": "code",
   "execution_count": 29,
   "id": "6331150f-0e8d-4434-89ec-6c2be1c5caf0",
   "metadata": {},
   "outputs": [
    {
     "name": "stdout",
     "output_type": "stream",
     "text": [
      "Subject: Unlock the Full Potential of Your Health Research Tools with AtliQ\n",
      "\n",
      "Dear Hiring Manager,\n",
      "\n",
      "I came across the job description for a Junior Server Engineer - Health Software at Apple Health, and I was impressed by the exciting opportunity to design, implement, and deliver scalable and secure health research tools. As a business development executive at AtliQ, an AI & Software Consulting company, I wanted to reach out to you to explore how our expertise can support your team's goals.\n",
      "\n",
      "AtliQ has a proven track record of empowering enterprises with tailored solutions that foster scalability, process optimization, cost reduction, and heightened overall efficiency. Our team of experts has a deep understanding of object-oriented languages (Java and Python), micro-services architecture, and API patterns, which aligns perfectly with the requirements mentioned in the job description.\n",
      "\n",
      "Some of our notable projects include:\n",
      "\n",
      "- A machine learning portfolio that showcases our expertise in Python and its applications in various industries: https://example.com/ml-python-portfolio\n",
      "- A comprehensive Python portfolio that highlights our team's proficiency in developing scalable and efficient software solutions: https://example.com/python-portfolio\n",
      "\n",
      "Our capabilities in public cloud infrastructure and platform services, as well as our experience with relational databases, no-SQL databases, and blob storage, make us an ideal partner for your team. We would be delighted to discuss how our expertise can help you achieve your goals and deliver high-quality health research tools.\n",
      "\n",
      "If you're interested in learning more about how AtliQ can support your team, I'd be happy to schedule a call to explore further. Please feel free to reach out to me directly at [Your Email Address] or [Your Phone Number].\n",
      "\n",
      "Best regards,\n",
      "\n",
      "Mohan\n",
      "Business Development Executive\n",
      "AtliQ\n"
     ]
    }
   ],
   "source": [
    "prompt_email = PromptTemplate.from_template(\n",
    "        \"\"\"\n",
    "        ### JOB DESCRIPTION:\n",
    "        {job_description}\n",
    "        \n",
    "        ### INSTRUCTION:\n",
    "        You are Mohan, a business development executive at AtliQ. AtliQ is an AI & Software Consulting company dedicated to facilitating\n",
    "        the seamless integration of business processes through automated tools. \n",
    "        Over our experience, we have empowered numerous enterprises with tailored solutions, fostering scalability, \n",
    "        process optimization, cost reduction, and heightened overall efficiency. \n",
    "        Your job is to write a cold email to the client regarding the job mentioned above describing the capability of AtliQ \n",
    "        in fulfilling their needs.\n",
    "        Also add the most relevant ones from the following links to showcase Atliq's portfolio: {link_list}\n",
    "        Remember you are Mohan, BDE at AtliQ. \n",
    "        Do not provide a preamble.\n",
    "        ### EMAIL (NO PREAMBLE):\n",
    "        \n",
    "        \"\"\"\n",
    "        )\n",
    "\n",
    "chain_email = prompt_email | llm\n",
    "res = chain_email.invoke({\"job_description\": str(job), \"link_list\": results})\n",
    "print(res.content)"
   ]
  },
  {
   "cell_type": "code",
   "execution_count": 30,
   "id": "1760908e-03e2-4e6d-ae49-dec141274bc8",
   "metadata": {},
   "outputs": [
    {
     "name": "stdout",
     "output_type": "stream",
     "text": [
      "Subject: Application for Junior Server Engineer - Health Software Role\n",
      "\n",
      "Dear Hiring Manager,\n",
      "\n",
      "I am writing to express my interest in the Junior Server Engineer - Health Software role at Apple Health. As a recent graduate with a Master's degree in Information Systems from Northeastern University, I am confident that my skills and experience make me an ideal candidate for this position.\n",
      "\n",
      "With a strong foundation in software development, I have developed, tested, and delivered software projects in various domains. My proficiency in object-oriented languages, particularly Java and Python, aligns with the requirements of the role. I have also honed my communication and collaboration skills, which are essential for working with cross-functional teams.\n",
      "\n",
      "In my academic and professional pursuits, I have gained experience with micro-services architecture and API patterns, relational databases, no-SQL databases, and blob storage. I am also familiar with public cloud infrastructure and platform services, which I believe will be beneficial in designing and implementing scalable and secure health research tools.\n",
      "\n",
      "I would like to highlight my relevant projects and experiences:\n",
      "\n",
      "- In my Python portfolio (https://example.com/python-portfolio), I have developed a machine learning model using scikit-learn and TensorFlow to predict patient outcomes based on electronic health records. This project showcases my ability to work with large datasets and implement data-driven solutions.\n",
      "- In my ML-Python portfolio (https://example.com/ml-python-portfolio), I have built a web application using Flask and MongoDB to collect and analyze patient data. This project demonstrates my proficiency in designing and implementing scalable web applications.\n",
      "\n",
      "I am particularly drawn to this role at Apple Health because of the opportunity to work on health research tools that can positively impact people's lives. I am excited about the prospect of joining a fast-paced group and contributing my skills and experience to the team.\n",
      "\n",
      "Thank you for considering my application. I would welcome the opportunity to discuss my qualifications further and learn more about the role.\n",
      "\n",
      "Best regards,\n",
      "\n",
      "Mrinalini\n"
     ]
    }
   ],
   "source": [
    "prompt_email = PromptTemplate.from_template(\n",
    "        \"\"\"\n",
    "        ### JOB DESCRIPTION:\n",
    "        {job_description}\n",
    "        \n",
    "        ### INSTRUCTION:\n",
    "        You are Mrinalini, a graduate student with Masters degree in information systems from Northeastern University. \n",
    "        Your job is to write a cold email to the company regarding the job mentioned above describing the capability of Mrinalini\n",
    "        in fulfilling their needs.\n",
    "        Also add the most relevant ones from the following links to showcase Mrinalini's portfolio: {link_list}\n",
    "        Remember you are Mrinalini. \n",
    "        Do not provide a preamble.\n",
    "        ### EMAIL (NO PREAMBLE):\n",
    "        \n",
    "        \"\"\"\n",
    "        )\n",
    "\n",
    "chain_email = prompt_email | llm\n",
    "res = chain_email.invoke({\"job_description\": str(job), \"link_list\": results})\n",
    "print(res.content)"
   ]
  },
  {
   "cell_type": "code",
   "execution_count": 31,
   "id": "f6378858-9f54-48e5-9544-b2b2d677fda2",
   "metadata": {},
   "outputs": [
    {
     "name": "stdout",
     "output_type": "stream",
     "text": [
      "Subject: Application for Junior Server Engineer - Health Software Role at Apple Health\n",
      "\n",
      "Dear Hiring Manager,\n",
      "\n",
      "I am writing to express my enthusiastic interest in the Junior Server Engineer - Health Software role at Apple Health. As a highly motivated graduate student with a Master's degree in Information Systems from Northeastern University, I am confident that my technical expertise, problem-solving skills, and relevant experiences make me an ideal candidate for this position.\n",
      "\n",
      "With a strong foundation in object-oriented programming languages, I have developed a proficiency in Java and Python, which aligns with the job requirements. My experience in designing and implementing scalable and secure software solutions has equipped me with the skills to tackle complex problems in the health research domain. I am particularly drawn to this role because of the opportunity to work cross-functionally with various stakeholders and contribute to the development of innovative health research tools.\n",
      "\n",
      "As a detail-oriented and organized individual, I have a proven track record of delivering high-quality software solutions on time. My experience with relational databases, no-SQL databases, and blob storage has prepared me to handle the technical demands of this role. Additionally, my familiarity with public cloud infrastructure and platform services will enable me to effectively design and implement scalable solutions.\n",
      "\n",
      "I would like to highlight my achievements in the following areas:\n",
      "\n",
      "* Developed a machine learning model using Python and scikit-learn to predict patient outcomes, which can be viewed in my Python portfolio at https://example.com/python-portfolio.\n",
      "* Designed and implemented a microservices architecture using Java and Spring Boot, which can be viewed in my ML Python portfolio at https://example.com/ml-python-portfolio.\n",
      "\n",
      "I am excited about the prospect of joining Apple Health and contributing my skills and experience to the team. I would welcome the opportunity to discuss my application and how I can make a meaningful impact in this role.\n",
      "\n",
      "Thank you for considering my application. I look forward to the opportunity to discuss this further.\n",
      "\n",
      "Best regards,\n",
      "\n",
      "Mrinalini\n"
     ]
    }
   ],
   "source": [
    "prompt_email = PromptTemplate.from_template(\n",
    "    \"\"\"\n",
    "    ### JOB DESCRIPTION:\n",
    "    {job_description}\n",
    "\n",
    "    ### INSTRUCTION:\n",
    "    You are Mrinalini, a highly motivated graduate student with a Master's degree in Information Systems from Northeastern University. \n",
    "    Your goal is to write a **persuasive, professional, and engaging cold email** to the hiring manager at the company regarding the job mentioned above.\n",
    "\n",
    "    The email should:\n",
    "    - Express genuine enthusiasm for the role and the company.\n",
    "    - Highlight **Mrinalini’s technical expertise, problem-solving skills, and relevant experiences** that align with the job requirements.\n",
    "    - Incorporate **specific skills or achievements** that demonstrate Mrinalini’s ability to contribute effectively.\n",
    "    - Integrate the most relevant portfolio links from the following list to showcase Mrinalini's past work: {link_list}.\n",
    "    - End with a **clear call-to-action**, such as requesting a conversation or expressing interest in discussing the role further.\n",
    "\n",
    "    Keep the tone **confident, concise, and professional**. Personalize the email to make it compelling and avoid generic statements.\n",
    "\n",
    "    **Do not provide a preamble.**\n",
    "    \n",
    "    ### EMAIL (NO PREAMBLE):\n",
    "    \"\"\"\n",
    ")\n",
    "\n",
    "chain_email = prompt_email | llm\n",
    "res = chain_email.invoke({\"job_description\": str(job), \"link_list\": results})\n",
    "print(res.content)\n"
   ]
  },
  {
   "cell_type": "code",
   "execution_count": null,
   "id": "3d4654ff-8c34-4764-a44d-e492917d4fa4",
   "metadata": {},
   "outputs": [],
   "source": []
  }
 ],
 "metadata": {
  "kernelspec": {
   "display_name": "Python 3 (ipykernel)",
   "language": "python",
   "name": "python3"
  },
  "language_info": {
   "codemirror_mode": {
    "name": "ipython",
    "version": 3
   },
   "file_extension": ".py",
   "mimetype": "text/x-python",
   "name": "python",
   "nbconvert_exporter": "python",
   "pygments_lexer": "ipython3",
   "version": "3.11.7"
  }
 },
 "nbformat": 4,
 "nbformat_minor": 5
}
